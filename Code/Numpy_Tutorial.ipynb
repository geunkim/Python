{
  "nbformat": 4,
  "nbformat_minor": 0,
  "metadata": {
    "colab": {
      "name": "Numpy_Tutorial.ipynb",
      "provenance": [],
      "authorship_tag": "ABX9TyOUFypLgDKn2FizMYe2oO3a",
      "include_colab_link": true
    },
    "kernelspec": {
      "name": "python3",
      "display_name": "Python 3"
    }
  },
  "cells": [
    {
      "cell_type": "markdown",
      "metadata": {
        "id": "view-in-github",
        "colab_type": "text"
      },
      "source": [
        "<a href=\"https://colab.research.google.com/github/geunkim/Python/blob/master/Code/Numpy_Tutorial.ipynb\" target=\"_parent\"><img src=\"https://colab.research.google.com/assets/colab-badge.svg\" alt=\"Open In Colab\"/></a>"
      ]
    },
    {
      "cell_type": "markdown",
      "metadata": {
        "id": "MNLdDzLP5hAi",
        "colab_type": "text"
      },
      "source": [
        "# NumPy\n",
        "\n",
        "다차원 배열를 데이터로 나타내는데 특화된 라이브러리"
      ]
    },
    {
      "cell_type": "markdown",
      "metadata": {
        "id": "89hZj8TJBkMg",
        "colab_type": "text"
      },
      "source": [
        "파이썬은 배열 자료형을 제공하지 않는다. 배열을 구현한 다른 패키지를 임포트하여야 한다. 파이쎤에서 배열을 사용하기 위한 표준 패키지는 NumPy이다. NumPy는 수치해석용 파이쎤 패키지로 다차원 배열 자료구조 클래스인 ndarray 클래스를 지원하며 벡터와 행렬을 사용하는 선형대수 계산에 주로 사용된다. NumPy의 배열 연산은 C로 구현된 내부 반복문을 사용해서 파이썬 반복문에 비해 속도가 빠르고 벡터 연산을 통해 간단한 코드로도 복잡한 선형대수 연산을 수행할 수 있다. \n",
        "\n"
      ]
    },
    {
      "cell_type": "code",
      "metadata": {
        "id": "w3UNya389KbQ",
        "colab_type": "code",
        "colab": {}
      },
      "source": [
        "# numpy 를 np 로 import \n",
        "# 이 임포트 문장 실행 후 numpy의 기능은 np를 통해 실행 가능 \n",
        "import numpy as np"
      ],
      "execution_count": 0,
      "outputs": []
    },
    {
      "cell_type": "markdown",
      "metadata": {
        "id": "YepMQBu27sjL",
        "colab_type": "text"
      },
      "source": [
        "### **숫자 자료형** \n",
        "\n",
        "**1. 학생 3명의 성적의 평균을 구하는 프로그램**"
      ]
    },
    {
      "cell_type": "code",
      "metadata": {
        "id": "PiB0t3UO8Qyg",
        "colab_type": "code",
        "colab": {}
      },
      "source": [
        "# 학생 3명의 성적을 저장할 수 있는 변수 선언과 성적으로 초기화 (성적을 저장)\n",
        "Score1 = 10\n",
        "Score2 = 20\n",
        "Score3 = 30"
      ],
      "execution_count": 0,
      "outputs": []
    },
    {
      "cell_type": "markdown",
      "metadata": {
        "id": "ame6vS1I8Xsl",
        "colab_type": "text"
      },
      "source": [
        "앞에 선언한  Score1, Score2, Score3 의 값의 합과 평균을 구하고 출력하기 위한 코드는 다음과 같다."
      ]
    },
    {
      "cell_type": "code",
      "metadata": {
        "id": "caxLjoSU8l6b",
        "colab_type": "code",
        "colab": {}
      },
      "source": [
        "# 학생 3명의 성적을 사용하여 성적을 \n",
        "Sum = Score1 + Score2 + Score3\n",
        "Avg = Sum/3\n",
        "\n",
        "print('Sum: {}'.format(Sum))\n",
        "print('Aveage: {}'.format(Avg))"
      ],
      "execution_count": 0,
      "outputs": []
    },
    {
      "cell_type": "markdown",
      "metadata": {
        "id": "P24zL4dj-G-b",
        "colab_type": "text"
      },
      "source": [
        "새로운 학생의 성적을 더 처리해야 한다면 새로운 변수를 선언하고 새롭게 평균을 구해야 한다. 이를 처리하기 위해서 추가되는 프로그램은 다음과 같다. "
      ]
    },
    {
      "cell_type": "code",
      "metadata": {
        "id": "ZpH2EuklLItO",
        "colab_type": "code",
        "colab": {}
      },
      "source": [
        "# 새롭게 추가된 학생의 성적을 저장하기 위한 변수 선언 및 저장 \n",
        "Score4 = 30"
      ],
      "execution_count": 0,
      "outputs": []
    },
    {
      "cell_type": "markdown",
      "metadata": {
        "id": "N6j4lQhsOCgt",
        "colab_type": "text"
      },
      "source": [
        "추가된 학생의 성적을 이전 학생의 성적의 합을 저장한 변수에 더한다. 이전 합을 저장한 변수의 내용의 변경되었다면 새롭게 네 개의 성적을 다시 더해야 한다."
      ]
    },
    {
      "cell_type": "code",
      "metadata": {
        "id": "wlQ5W7LROjW1",
        "colab_type": "code",
        "colab": {}
      },
      "source": [
        " Sum = Sum + Score4\n",
        " Avg = Sum / 4\n",
        " \n",
        "print('새로운 학생의 성적을 포함한 합: {}'.format(Sum))\n",
        "print('새로운 학생을 포함한 네 학생의 성적 평균: {}'.format(Avg))"
      ],
      "execution_count": 0,
      "outputs": []
    },
    {
      "cell_type": "markdown",
      "metadata": {
        "id": "Ia-odVTTSd_6",
        "colab_type": "text"
      },
      "source": [
        "**2**. 앞의 예를 리스트 자료형을 이용하여 해결해 봅시다. 리스트에 새로운 데이터의 추가는 append() 메소드를 통해서 한다."
      ]
    },
    {
      "cell_type": "code",
      "metadata": {
        "id": "9RktMaERjnii",
        "colab_type": "code",
        "colab": {}
      },
      "source": [
        "Score = []\n",
        "Score.append(10)\n",
        "Score.append(20)\n",
        "Score.append(30)\n",
        "Score.append(40)\n",
        "\n",
        "print(type(Score))\n",
        "print(Score)"
      ],
      "execution_count": 0,
      "outputs": []
    },
    {
      "cell_type": "markdown",
      "metadata": {
        "id": "C2EvjFh-kZRV",
        "colab_type": "text"
      },
      "source": [
        "이제 데이터의 합과 평균을 구해봅시다."
      ]
    },
    {
      "cell_type": "code",
      "metadata": {
        "id": "FCYUBIhskfYt",
        "colab_type": "code",
        "colab": {}
      },
      "source": [
        "listSum = 0\n",
        "listAvg = 0\n",
        "\n",
        "for d in Score:\n",
        "  listSum += d\n",
        "\n",
        "listAvg = listSum / len(Score)\n",
        "\n",
        "print(\"합: {}\".format(listSum))\n",
        "print(\"평균: {}\".format(listAvg))"
      ],
      "execution_count": 0,
      "outputs": []
    },
    {
      "cell_type": "markdown",
      "metadata": {
        "id": "Dfu_udMbleAx",
        "colab_type": "text"
      },
      "source": [
        "4개의 데이터가 저장된 리스트 값 각각에 5를 더하고자 한다. "
      ]
    },
    {
      "cell_type": "code",
      "metadata": {
        "id": "npEeP9seqz-2",
        "colab_type": "code",
        "colab": {}
      },
      "source": [
        "for i in range(len(Score)):\n",
        "  Score[i] = Score[i] + 5\n",
        "\n",
        "print(Score) "
      ],
      "execution_count": 0,
      "outputs": []
    },
    {
      "cell_type": "markdown",
      "metadata": {
        "id": "9doLu848w4Qu",
        "colab_type": "text"
      },
      "source": [
        "### 중첩 리스트(Nexted List)"
      ]
    },
    {
      "cell_type": "code",
      "metadata": {
        "id": "1zxRPhlHxIyX",
        "colab_type": "code",
        "colab": {}
      },
      "source": [
        "NestedList = [[1, 2, 3], [4, 5, 6], [7, 8, 9]]\n",
        "\n",
        "print(NestedList)"
      ],
      "execution_count": 0,
      "outputs": []
    }
  ]
}